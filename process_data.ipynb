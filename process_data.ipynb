{
 "cells": [
  {
   "cell_type": "markdown",
   "metadata": {},
   "source": [
    "<h1>Process Reviews </h1>"
   ]
  },
  {
   "cell_type": "markdown",
   "metadata": {},
   "source": [
    "Want to predict rating from the textual review content. We need to ingest over 12 million reviews, then filter on them."
   ]
  },
  {
   "cell_type": "code",
   "execution_count": 2,
   "metadata": {},
   "outputs": [],
   "source": [
    "import pandas as pd\n",
    "import numpy as np \n",
    "import dask.dataframe as dd"
   ]
  },
  {
   "cell_type": "code",
   "execution_count": 3,
   "metadata": {},
   "outputs": [],
   "source": [
    "file_path = './data/review-Pennsylvania_10.json'"
   ]
  },
  {
   "cell_type": "code",
   "execution_count": 7,
   "metadata": {},
   "outputs": [
    {
     "name": "stderr",
     "output_type": "stream",
     "text": [
      "/Users/alanwu/Documents/GitHub/Google-Local-Review-Analysis/venv/lib/python3.11/site-packages/distributed/node.py:187: UserWarning: Port 8787 is already in use.\n",
      "Perhaps you already have a cluster running?\n",
      "Hosting the HTTP server on port 52245 instead\n",
      "  warnings.warn(\n"
     ]
    },
    {
     "name": "stdout",
     "output_type": "stream",
     "text": [
      "http://127.0.0.1:52245/status\n"
     ]
    }
   ],
   "source": [
    "from dask.distributed import Client \n",
    "\n",
    "client = Client(memory_limit = '4GB', n_workers=2, threads_per_worker=2) \n",
    "print(client.dashboard_link)"
   ]
  },
  {
   "cell_type": "markdown",
   "metadata": {},
   "source": [
    "### Ingesting reviews"
   ]
  },
  {
   "cell_type": "code",
   "execution_count": 20,
   "metadata": {},
   "outputs": [
    {
     "data": {
      "text/html": [
       "<div>\n",
       "<style scoped>\n",
       "    .dataframe tbody tr th:only-of-type {\n",
       "        vertical-align: middle;\n",
       "    }\n",
       "\n",
       "    .dataframe tbody tr th {\n",
       "        vertical-align: top;\n",
       "    }\n",
       "\n",
       "    .dataframe thead th {\n",
       "        text-align: right;\n",
       "    }\n",
       "</style>\n",
       "<table border=\"1\" class=\"dataframe\">\n",
       "  <thead>\n",
       "    <tr style=\"text-align: right;\">\n",
       "      <th></th>\n",
       "      <th>user_id</th>\n",
       "      <th>name</th>\n",
       "      <th>time</th>\n",
       "      <th>rating</th>\n",
       "      <th>text</th>\n",
       "      <th>pics</th>\n",
       "      <th>resp</th>\n",
       "      <th>gmap_id</th>\n",
       "    </tr>\n",
       "  </thead>\n",
       "  <tbody>\n",
       "    <tr>\n",
       "      <th>0</th>\n",
       "      <td>1.049447e+20</td>\n",
       "      <td>Jaron Whitfield</td>\n",
       "      <td>1517731762839</td>\n",
       "      <td>5</td>\n",
       "      <td>Joe is quite unique of his line of work, he as...</td>\n",
       "      <td>&lt;NA&gt;</td>\n",
       "      <td>&lt;NA&gt;</td>\n",
       "      <td>0x89c6c63c8cd87141:0x54d0d283872eecbb</td>\n",
       "    </tr>\n",
       "    <tr>\n",
       "      <th>1</th>\n",
       "      <td>1.176097e+20</td>\n",
       "      <td>Jonathan McCarthy</td>\n",
       "      <td>1476276291163</td>\n",
       "      <td>5</td>\n",
       "      <td>For such a small place their impact on my life...</td>\n",
       "      <td>&lt;NA&gt;</td>\n",
       "      <td>&lt;NA&gt;</td>\n",
       "      <td>0x89c6c63c8cd87141:0x54d0d283872eecbb</td>\n",
       "    </tr>\n",
       "    <tr>\n",
       "      <th>2</th>\n",
       "      <td>1.105632e+20</td>\n",
       "      <td>Rocky Kev</td>\n",
       "      <td>1338826945578</td>\n",
       "      <td>5</td>\n",
       "      <td>I usually give them a call before I stop by to...</td>\n",
       "      <td>&lt;NA&gt;</td>\n",
       "      <td>&lt;NA&gt;</td>\n",
       "      <td>0x89c6c63c8cd87141:0x54d0d283872eecbb</td>\n",
       "    </tr>\n",
       "    <tr>\n",
       "      <th>3</th>\n",
       "      <td>1.128960e+20</td>\n",
       "      <td>Josep Valls</td>\n",
       "      <td>1363286110554</td>\n",
       "      <td>5</td>\n",
       "      <td>My bike had been sitting outdoors for a good w...</td>\n",
       "      <td>&lt;NA&gt;</td>\n",
       "      <td>&lt;NA&gt;</td>\n",
       "      <td>0x89c6c63c8cd87141:0x54d0d283872eecbb</td>\n",
       "    </tr>\n",
       "    <tr>\n",
       "      <th>4</th>\n",
       "      <td>1.106197e+20</td>\n",
       "      <td>Timaree Schmit</td>\n",
       "      <td>1548798329760</td>\n",
       "      <td>5</td>\n",
       "      <td>Always an easy experience. Service is knowledg...</td>\n",
       "      <td>&lt;NA&gt;</td>\n",
       "      <td>&lt;NA&gt;</td>\n",
       "      <td>0x89c6c63c8cd87141:0x54d0d283872eecbb</td>\n",
       "    </tr>\n",
       "  </tbody>\n",
       "</table>\n",
       "</div>"
      ],
      "text/plain": [
       "        user_id               name           time  rating  \\\n",
       "0  1.049447e+20    Jaron Whitfield  1517731762839       5   \n",
       "1  1.176097e+20  Jonathan McCarthy  1476276291163       5   \n",
       "2  1.105632e+20          Rocky Kev  1338826945578       5   \n",
       "3  1.128960e+20        Josep Valls  1363286110554       5   \n",
       "4  1.106197e+20     Timaree Schmit  1548798329760       5   \n",
       "\n",
       "                                                text  pics  resp  \\\n",
       "0  Joe is quite unique of his line of work, he as...  <NA>  <NA>   \n",
       "1  For such a small place their impact on my life...  <NA>  <NA>   \n",
       "2  I usually give them a call before I stop by to...  <NA>  <NA>   \n",
       "3  My bike had been sitting outdoors for a good w...  <NA>  <NA>   \n",
       "4  Always an easy experience. Service is knowledg...  <NA>  <NA>   \n",
       "\n",
       "                                 gmap_id  \n",
       "0  0x89c6c63c8cd87141:0x54d0d283872eecbb  \n",
       "1  0x89c6c63c8cd87141:0x54d0d283872eecbb  \n",
       "2  0x89c6c63c8cd87141:0x54d0d283872eecbb  \n",
       "3  0x89c6c63c8cd87141:0x54d0d283872eecbb  \n",
       "4  0x89c6c63c8cd87141:0x54d0d283872eecbb  "
      ]
     },
     "execution_count": 20,
     "metadata": {},
     "output_type": "execute_result"
    }
   ],
   "source": [
    "import gzip\n",
    "import json\n",
    "\n",
    "df = dd.read_json(file_path, lines=True, blocksize=\"16MB\")\n",
    "\n",
    "df.head()"
   ]
  },
  {
   "cell_type": "code",
   "execution_count": 15,
   "metadata": {},
   "outputs": [
    {
     "name": "stdout",
     "output_type": "stream",
     "text": [
      "Number of reviews 12772358\n"
     ]
    }
   ],
   "source": [
    "print(f\"Number of reviews {df.shape[0].compute()}\")"
   ]
  },
  {
   "cell_type": "markdown",
   "metadata": {},
   "source": [
    "### drop the pics, resp"
   ]
  },
  {
   "cell_type": "code",
   "execution_count": 21,
   "metadata": {},
   "outputs": [
    {
     "data": {
      "text/html": [
       "<div>\n",
       "<style scoped>\n",
       "    .dataframe tbody tr th:only-of-type {\n",
       "        vertical-align: middle;\n",
       "    }\n",
       "\n",
       "    .dataframe tbody tr th {\n",
       "        vertical-align: top;\n",
       "    }\n",
       "\n",
       "    .dataframe thead th {\n",
       "        text-align: right;\n",
       "    }\n",
       "</style>\n",
       "<table border=\"1\" class=\"dataframe\">\n",
       "  <thead>\n",
       "    <tr style=\"text-align: right;\">\n",
       "      <th></th>\n",
       "      <th>user_id</th>\n",
       "      <th>name</th>\n",
       "      <th>time</th>\n",
       "      <th>rating</th>\n",
       "      <th>text</th>\n",
       "      <th>gmap_id</th>\n",
       "    </tr>\n",
       "  </thead>\n",
       "  <tbody>\n",
       "    <tr>\n",
       "      <th>0</th>\n",
       "      <td>1.049447e+20</td>\n",
       "      <td>Jaron Whitfield</td>\n",
       "      <td>1517731762839</td>\n",
       "      <td>5</td>\n",
       "      <td>Joe is quite unique of his line of work, he as...</td>\n",
       "      <td>0x89c6c63c8cd87141:0x54d0d283872eecbb</td>\n",
       "    </tr>\n",
       "    <tr>\n",
       "      <th>1</th>\n",
       "      <td>1.176097e+20</td>\n",
       "      <td>Jonathan McCarthy</td>\n",
       "      <td>1476276291163</td>\n",
       "      <td>5</td>\n",
       "      <td>For such a small place their impact on my life...</td>\n",
       "      <td>0x89c6c63c8cd87141:0x54d0d283872eecbb</td>\n",
       "    </tr>\n",
       "    <tr>\n",
       "      <th>2</th>\n",
       "      <td>1.105632e+20</td>\n",
       "      <td>Rocky Kev</td>\n",
       "      <td>1338826945578</td>\n",
       "      <td>5</td>\n",
       "      <td>I usually give them a call before I stop by to...</td>\n",
       "      <td>0x89c6c63c8cd87141:0x54d0d283872eecbb</td>\n",
       "    </tr>\n",
       "    <tr>\n",
       "      <th>3</th>\n",
       "      <td>1.128960e+20</td>\n",
       "      <td>Josep Valls</td>\n",
       "      <td>1363286110554</td>\n",
       "      <td>5</td>\n",
       "      <td>My bike had been sitting outdoors for a good w...</td>\n",
       "      <td>0x89c6c63c8cd87141:0x54d0d283872eecbb</td>\n",
       "    </tr>\n",
       "    <tr>\n",
       "      <th>4</th>\n",
       "      <td>1.106197e+20</td>\n",
       "      <td>Timaree Schmit</td>\n",
       "      <td>1548798329760</td>\n",
       "      <td>5</td>\n",
       "      <td>Always an easy experience. Service is knowledg...</td>\n",
       "      <td>0x89c6c63c8cd87141:0x54d0d283872eecbb</td>\n",
       "    </tr>\n",
       "  </tbody>\n",
       "</table>\n",
       "</div>"
      ],
      "text/plain": [
       "        user_id               name           time  rating  \\\n",
       "0  1.049447e+20    Jaron Whitfield  1517731762839       5   \n",
       "1  1.176097e+20  Jonathan McCarthy  1476276291163       5   \n",
       "2  1.105632e+20          Rocky Kev  1338826945578       5   \n",
       "3  1.128960e+20        Josep Valls  1363286110554       5   \n",
       "4  1.106197e+20     Timaree Schmit  1548798329760       5   \n",
       "\n",
       "                                                text  \\\n",
       "0  Joe is quite unique of his line of work, he as...   \n",
       "1  For such a small place their impact on my life...   \n",
       "2  I usually give them a call before I stop by to...   \n",
       "3  My bike had been sitting outdoors for a good w...   \n",
       "4  Always an easy experience. Service is knowledg...   \n",
       "\n",
       "                                 gmap_id  \n",
       "0  0x89c6c63c8cd87141:0x54d0d283872eecbb  \n",
       "1  0x89c6c63c8cd87141:0x54d0d283872eecbb  \n",
       "2  0x89c6c63c8cd87141:0x54d0d283872eecbb  \n",
       "3  0x89c6c63c8cd87141:0x54d0d283872eecbb  \n",
       "4  0x89c6c63c8cd87141:0x54d0d283872eecbb  "
      ]
     },
     "execution_count": 21,
     "metadata": {},
     "output_type": "execute_result"
    }
   ],
   "source": [
    "df = df.drop(columns=['resp', 'pics'])\n",
    "df.head()"
   ]
  },
  {
   "cell_type": "code",
   "execution_count": 22,
   "metadata": {},
   "outputs": [
    {
     "data": {
      "text/html": [
       "<div>\n",
       "<style scoped>\n",
       "    .dataframe tbody tr th:only-of-type {\n",
       "        vertical-align: middle;\n",
       "    }\n",
       "\n",
       "    .dataframe tbody tr th {\n",
       "        vertical-align: top;\n",
       "    }\n",
       "\n",
       "    .dataframe thead th {\n",
       "        text-align: right;\n",
       "    }\n",
       "</style>\n",
       "<table border=\"1\" class=\"dataframe\">\n",
       "  <thead>\n",
       "    <tr style=\"text-align: right;\">\n",
       "      <th></th>\n",
       "      <th>user_id</th>\n",
       "      <th>time</th>\n",
       "      <th>rating</th>\n",
       "    </tr>\n",
       "  </thead>\n",
       "  <tbody>\n",
       "    <tr>\n",
       "      <th>count</th>\n",
       "      <td>1.277236e+07</td>\n",
       "      <td>1.277236e+07</td>\n",
       "      <td>1.277236e+07</td>\n",
       "    </tr>\n",
       "    <tr>\n",
       "      <th>mean</th>\n",
       "      <td>1.092328e+20</td>\n",
       "      <td>1.063160e+11</td>\n",
       "      <td>4.293200e+00</td>\n",
       "    </tr>\n",
       "    <tr>\n",
       "      <th>std</th>\n",
       "      <td>5.318876e+18</td>\n",
       "      <td>3.926447e+10</td>\n",
       "      <td>1.062594e+00</td>\n",
       "    </tr>\n",
       "    <tr>\n",
       "      <th>min</th>\n",
       "      <td>1.000000e+20</td>\n",
       "      <td>6.626016e+11</td>\n",
       "      <td>1.000000e+00</td>\n",
       "    </tr>\n",
       "    <tr>\n",
       "      <th>25%</th>\n",
       "      <td>1.057053e+20</td>\n",
       "      <td>1.530289e+12</td>\n",
       "      <td>4.000000e+00</td>\n",
       "    </tr>\n",
       "    <tr>\n",
       "      <th>50%</th>\n",
       "      <td>1.096047e+20</td>\n",
       "      <td>1.561359e+12</td>\n",
       "      <td>5.000000e+00</td>\n",
       "    </tr>\n",
       "    <tr>\n",
       "      <th>75%</th>\n",
       "      <td>1.140734e+20</td>\n",
       "      <td>1.597756e+12</td>\n",
       "      <td>5.000000e+00</td>\n",
       "    </tr>\n",
       "    <tr>\n",
       "      <th>max</th>\n",
       "      <td>1.184467e+20</td>\n",
       "      <td>1.631133e+12</td>\n",
       "      <td>5.000000e+00</td>\n",
       "    </tr>\n",
       "  </tbody>\n",
       "</table>\n",
       "</div>"
      ],
      "text/plain": [
       "            user_id          time        rating\n",
       "count  1.277236e+07  1.277236e+07  1.277236e+07\n",
       "mean   1.092328e+20  1.063160e+11  4.293200e+00\n",
       "std    5.318876e+18  3.926447e+10  1.062594e+00\n",
       "min    1.000000e+20  6.626016e+11  1.000000e+00\n",
       "25%    1.057053e+20  1.530289e+12  4.000000e+00\n",
       "50%    1.096047e+20  1.561359e+12  5.000000e+00\n",
       "75%    1.140734e+20  1.597756e+12  5.000000e+00\n",
       "max    1.184467e+20  1.631133e+12  5.000000e+00"
      ]
     },
     "execution_count": 22,
     "metadata": {},
     "output_type": "execute_result"
    }
   ],
   "source": [
    "summary_stats = df.describe().compute()\n",
    "summary_stats"
   ]
  },
  {
   "cell_type": "markdown",
   "metadata": {},
   "source": [
    "remove nulls"
   ]
  },
  {
   "cell_type": "code",
   "execution_count": 23,
   "metadata": {},
   "outputs": [
    {
     "data": {
      "text/plain": [
       "user_id          0\n",
       "name             0\n",
       "time             0\n",
       "rating           0\n",
       "text       5965398\n",
       "gmap_id          0\n",
       "dtype: int64"
      ]
     },
     "execution_count": 23,
     "metadata": {},
     "output_type": "execute_result"
    }
   ],
   "source": [
    "missing_vals = df.isnull().sum().compute() \n",
    "missing_vals"
   ]
  },
  {
   "cell_type": "code",
   "execution_count": 24,
   "metadata": {},
   "outputs": [],
   "source": [
    "df = df.dropna()"
   ]
  },
  {
   "cell_type": "code",
   "execution_count": 25,
   "metadata": {},
   "outputs": [],
   "source": [
    "df.to_parquet('./data/reviews.parquet', engine='pyarrow')"
   ]
  },
  {
   "cell_type": "code",
   "execution_count": null,
   "metadata": {},
   "outputs": [],
   "source": []
  }
 ],
 "metadata": {
  "kernelspec": {
   "display_name": "venv",
   "language": "python",
   "name": "python3"
  },
  "language_info": {
   "codemirror_mode": {
    "name": "ipython",
    "version": 3
   },
   "file_extension": ".py",
   "mimetype": "text/x-python",
   "name": "python",
   "nbconvert_exporter": "python",
   "pygments_lexer": "ipython3",
   "version": "3.11.11"
  }
 },
 "nbformat": 4,
 "nbformat_minor": 2
}
